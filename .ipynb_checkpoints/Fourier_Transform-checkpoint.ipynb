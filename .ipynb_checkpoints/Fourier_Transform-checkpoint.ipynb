{
 "cells": [
  {
   "cell_type": "code",
   "execution_count": 49,
   "metadata": {
    "collapsed": true
   },
   "outputs": [],
   "source": [
    "from __future__ import  division\n",
    "from matplotlib.patches import FancyArrow\n",
    "import mpl_toolkits.mplot3d.art3d as art3d\n",
    "from mpl_toolkits.mplot3d.art3d import Poly3DCollection\n",
    "import matplotlib.gridspec as gridspec\n",
    "from numpy import *\n",
    "from matplotlib import *"
   ]
  },
  {
   "cell_type": "code",
   "execution_count": 50,
   "metadata": {
    "collapsed": true
   },
   "outputs": [],
   "source": [
    "def dftmatrix(Nfft=32,N=None):\n",
    "    'construct DFT matrix'\n",
    "    k= arange(Nfft)\n",
    "    if N is None: N = Nfft\n",
    "    n = arange(N)\n",
    "    U = matrix(exp(1j* 2*pi/Nfft *k*n[:,None])) \n",
    "    # use numpy broadcasting to create matrix\n",
    "    return U/sqrt(Nfft)"
   ]
  },
  {
   "cell_type": "code",
   "execution_count": 51,
   "metadata": {
    "collapsed": false
   },
   "outputs": [],
   "source": [
    "Nfft=16\n",
    "v = ones((16,1))\n",
    "U = dftmatrix(Nfft=Nfft,N=16)"
   ]
  },
  {
   "cell_type": "code",
   "execution_count": 52,
   "metadata": {
    "collapsed": false
   },
   "outputs": [
    {
     "ename": "TypeError",
     "evalue": "'module' object is not callable",
     "output_type": "error",
     "traceback": [
      "\u001b[0;31m---------------------------------------------------------------------------\u001b[0m",
      "\u001b[0;31mTypeError\u001b[0m                                 Traceback (most recent call last)",
      "\u001b[0;32m<ipython-input-52-17a8b16eca38>\u001b[0m in \u001b[0;36m<module>\u001b[0;34m()\u001b[0m\n\u001b[1;32m      2\u001b[0m \u001b[0mgs\u001b[0m\u001b[0;34m.\u001b[0m\u001b[0mupdate\u001b[0m\u001b[0;34m(\u001b[0m \u001b[0mwspace\u001b[0m\u001b[0;34m=\u001b[0m\u001b[0;36m1\u001b[0m\u001b[0;34m,\u001b[0m \u001b[0mleft\u001b[0m\u001b[0;34m=\u001b[0m\u001b[0;36m0.01\u001b[0m\u001b[0;34m)\u001b[0m\u001b[0;34m\u001b[0m\u001b[0m\n\u001b[1;32m      3\u001b[0m \u001b[0;34m\u001b[0m\u001b[0m\n\u001b[0;32m----> 4\u001b[0;31m \u001b[0mfig\u001b[0m \u001b[0;34m=\u001b[0m\u001b[0mfigure\u001b[0m\u001b[0;34m(\u001b[0m\u001b[0mfigsize\u001b[0m\u001b[0;34m=\u001b[0m\u001b[0;34m(\u001b[0m\u001b[0;36m10\u001b[0m\u001b[0;34m,\u001b[0m\u001b[0;36m5\u001b[0m\u001b[0;34m)\u001b[0m\u001b[0;34m)\u001b[0m\u001b[0;34m\u001b[0m\u001b[0m\n\u001b[0m\u001b[1;32m      5\u001b[0m \u001b[0max0\u001b[0m \u001b[0;34m=\u001b[0m \u001b[0msubplot\u001b[0m\u001b[0;34m(\u001b[0m\u001b[0mgs\u001b[0m\u001b[0;34m[\u001b[0m\u001b[0;34m:\u001b[0m\u001b[0;34m,\u001b[0m\u001b[0;34m:\u001b[0m\u001b[0;36m3\u001b[0m\u001b[0;34m]\u001b[0m\u001b[0;34m)\u001b[0m\u001b[0;34m\u001b[0m\u001b[0m\n\u001b[1;32m      6\u001b[0m \u001b[0mfig\u001b[0m\u001b[0;34m.\u001b[0m\u001b[0madd_subplot\u001b[0m\u001b[0;34m(\u001b[0m\u001b[0max0\u001b[0m\u001b[0;34m)\u001b[0m\u001b[0;34m\u001b[0m\u001b[0m\n",
      "\u001b[0;31mTypeError\u001b[0m: 'module' object is not callable"
     ]
    }
   ],
   "source": [
    "gs = gridspec.GridSpec(8,12)\n",
    "gs.update( wspace=1, left=0.01)\n",
    "\n",
    "fig =figure(figsize=(10,5))\n",
    "ax0 = subplot(gs[:,:3])\n",
    "fig.add_subplot(ax0)\n",
    "\n",
    "ax0.set_aspect(1)\n",
    "a=2*pi/Nfft*arange(Nfft)\n",
    "\n",
    "colors = ['k','b','r','m','g','Brown','DarkBlue','Tomato','Violet', 'Tan','Salmon','Pink',\n",
    "          'SaddleBrown', 'SpringGreen', 'RosyBrown','Silver',]\n",
    "for j,i in enumerate(a):\n",
    "  ax0.add_patch( FancyArrow(0,0,cos(i),sin(i),width=0.02,\n",
    "                            length_includes_head=True,edgecolor=colors[j]))\n",
    "\n",
    "ax0.text(1,0.1,'0',fontsize=16)\n",
    "ax0.text(0.1,1,r'$\\frac{\\pi}{2}$',fontsize=22)\n",
    "ax0.text(-1,0.1,r'$\\pi$',fontsize=18)\n",
    "ax0.text(0.1,-1.2,r'$\\frac{3\\pi}{2}$',fontsize=22)\n",
    "ax0.axis(array([-1,1,-1,1])*1.45)\n",
    "ax0.set_title('Radial Frequency')\n",
    "ax0.set_xlabel('Real')\n",
    "ax0.set_ylabel('Imaginary')\n",
    "\n",
    "# plots in the middle column\n",
    "for i in range(8):\n",
    "  ax=subplot(gs[i,4:8])\n",
    "  ax.set_xticks([]);  ax.set_yticks([])\n",
    "  ax.set_ylabel(r'$\\Omega_{%d}=%d\\times\\frac{2\\pi}{16}$'%(i,i),fontsize=16,\n",
    "                rotation='horizontal')\n",
    "  ax.plot(U.real[:,i],'-o',color=colors[i])\n",
    "  ax.plot(U.imag[:,i],'--o',color=colors[i],alpha=0.2)\n",
    "  ax.axis(ymax=4/Nfft*1.1,ymin=-4/Nfft*1.1)\n",
    "ax.set_xticks(arange(16))\n",
    "ax.set_xlabel('n')\n",
    "\n",
    "# plots in the far right column\n",
    "for i in range(8):\n",
    "  ax=subplot(gs[i,8:])\n",
    "  ax.set_xticks([]);  ax.set_yticks([])\n",
    "  ax.set_ylabel(r'$\\Omega_{%d}=%d\\times\\frac{2\\pi}{16}$'%(i+8,i+8),fontsize=16,\n",
    "                rotation='horizontal')\n",
    "  ax.plot(U.real[:,i+8],'-o',color=colors[i+8])\n",
    "  ax.plot(U.imag[:,i+8],'--o',color=colors[i+8],alpha=0.2)\n",
    "  ax.axis(ymax=4/Nfft*1.1,ymin=-4/Nfft*1.1)    \n",
    "  ax.yaxis.set_label_position('right')\n",
    "ax.set_xticks(arange(16))\n",
    "ax.set_xlabel('n')\n",
    "# fig.savefig('figure_00@.png', bbox_inches='tight', dpi=300)"
   ]
  },
  {
   "cell_type": "code",
   "execution_count": 36,
   "metadata": {
    "collapsed": false
   },
   "outputs": [
    {
     "name": "stdout",
     "output_type": "stream",
     "text": [
      "Object `figure` not found.\n"
     ]
    }
   ],
   "source": []
  },
  {
   "cell_type": "code",
   "execution_count": null,
   "metadata": {
    "collapsed": true
   },
   "outputs": [],
   "source": []
  }
 ],
 "metadata": {
  "kernelspec": {
   "display_name": "Python 2",
   "language": "python",
   "name": "python2"
  },
  "language_info": {
   "codemirror_mode": {
    "name": "ipython",
    "version": 2
   },
   "file_extension": ".py",
   "mimetype": "text/x-python",
   "name": "python",
   "nbconvert_exporter": "python",
   "pygments_lexer": "ipython2",
   "version": "2.7.12"
  }
 },
 "nbformat": 4,
 "nbformat_minor": 1
}
