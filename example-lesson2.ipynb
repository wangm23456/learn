{
 "cells": [
  {
   "cell_type": "code",
   "execution_count": 1,
   "metadata": {
    "collapsed": true
   },
   "outputs": [],
   "source": [
    "import sys"
   ]
  },
  {
   "cell_type": "code",
   "execution_count": 2,
   "metadata": {
    "collapsed": false
   },
   "outputs": [
    {
     "name": "stdout",
     "output_type": "stream",
     "text": [
      "['', '/home/inat/\\xe6\\x96\\x87\\xe6\\xa1\\xa3', '/home/inat/APP/G4/g4py/lib', '/home/inat/APP/G4/g4py/examples', '/home/inat/APP/G4/g4py/tests', '/home/inat/APP/G4/g4py/site-modules', '/home/inat/py2env/lib/python2.7', '/home/inat/py2env/lib/python2.7/plat-x86_64-linux-gnu', '/home/inat/py2env/lib/python2.7/lib-tk', '/home/inat/py2env/lib/python2.7/lib-old', '/home/inat/py2env/lib/python2.7/lib-dynload', '/usr/lib/python2.7', '/usr/lib/python2.7/plat-x86_64-linux-gnu', '/usr/lib/python2.7/lib-tk', '/home/inat/py2env/local/lib/python2.7/site-packages', '/home/inat/py2env/lib/python2.7/site-packages', '/home/inat/py2env/local/lib/python2.7/site-packages/IPython/extensions', '/home/inat/.ipython']\n"
     ]
    }
   ],
   "source": [
    "print(sys.path)"
   ]
  },
  {
   "cell_type": "code",
   "execution_count": null,
   "metadata": {
    "collapsed": true
   },
   "outputs": [],
   "source": []
  }
 ],
 "metadata": {
  "kernelspec": {
   "display_name": "Python 2",
   "language": "python",
   "name": "python2"
  },
  "language_info": {
   "codemirror_mode": {
    "name": "ipython",
    "version": 2
   },
   "file_extension": ".py",
   "mimetype": "text/x-python",
   "name": "python",
   "nbconvert_exporter": "python",
   "pygments_lexer": "ipython2",
   "version": "2.7.12"
  }
 },
 "nbformat": 4,
 "nbformat_minor": 1
}
